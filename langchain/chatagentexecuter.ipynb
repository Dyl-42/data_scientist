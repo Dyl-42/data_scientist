{
 "cells": [
  {
   "cell_type": "markdown",
   "id": "51466c8d-8ce4-4b3d-be4e-18fdbeda5f53",
   "metadata": {},
   "source": [
    "# Chat Agent Executor\n",
    "\n",
    "In this example we will build a ReAct Agent that uses function calling from scratch."
   ]
  },
  {
   "cell_type": "code",
   "execution_count": 1,
   "id": "95e25aec-7c9f-4a63-b143-225d0e9a79c3",
   "metadata": {},
   "outputs": [],
   "source": [
    "import os\n",
    "from dotenv import load_dotenv\n",
    "\n",
    "# Load the environment variables from the .env file\n",
    "load_dotenv()\n",
    "\n",
    "# Access the environment variables\n",
    "openai_api_key = os.getenv('OPENAI_API_KEY')\n",
    "tavily_api_key = os.getenv('TAVILY_API_KEY')\n",
    "langsmith_api_key = os.getenv('LANGSMITH_API_KEY')\n"
   ]
  },
  {
   "cell_type": "markdown",
   "id": "21ac643b-cb06-4724-a80c-2862ba4773f1",
   "metadata": {},
   "source": [
    "## Set up the tools\n",
    "\n",
    "We will first define the tools we want to use.\n",
    "For this simple example, we will use create a placeholder search engine.\n",
    "However, it is really easy to create your own tools - see documentation [here](https://python.langchain.com/v0.2/docs/how_to/custom_tools) on how to do that.\n"
   ]
  },
  {
   "cell_type": "code",
   "execution_count": 2,
   "id": "d7ef57dd-5d6e-4ad3-9377-a92201c1310e",
   "metadata": {},
   "outputs": [],
   "source": [
    "from langchain_community.tools.tavily_search import TavilySearchResults\n",
    "\n",
    "tools = [TavilySearchResults(max_results=1)]"
   ]
  },
  {
   "cell_type": "markdown",
   "id": "01885785-b71a-44d1-b1d6-7b5b14d53b58",
   "metadata": {},
   "source": [
    "We can now wrap these tools in a simple ToolExecutor.\n",
    "This is a real simple class that takes in a ToolInvocation and calls that tool, returning the output.\n",
    "A ToolInvocation is any class with `tool` and `tool_input` attribute.\n"
   ]
  },
  {
   "cell_type": "code",
   "execution_count": 3,
   "id": "5cf3331e-ccb3-41c8-aeb9-a840a94d41e7",
   "metadata": {},
   "outputs": [
    {
     "name": "stderr",
     "output_type": "stream",
     "text": [
      "/var/folders/d1/dvmxg7g54gq4h4s6pjdf618w0000gn/T/ipykernel_57453/780962383.py:3: LangGraphDeprecationWarning: ToolExecutor is deprecated as of version 0.2.0 and will be removed in 0.3.0. Use langgraph.prebuilt.ToolNode instead.\n",
      "  tool_executor = ToolExecutor(tools)\n"
     ]
    }
   ],
   "source": [
    "from langgraph.prebuilt import ToolExecutor\n",
    "\n",
    "tool_executor = ToolExecutor(tools)"
   ]
  },
  {
   "cell_type": "markdown",
   "id": "5497ed70-fce3-47f1-9cad-46f912bad6a5",
   "metadata": {},
   "source": [
    "## Set up the model\n",
    "\n",
    "Now we need to load the chat model we want to use.\n",
    "Importantly, this should satisfy two criteria:\n",
    "\n",
    "1. It should work with messages. We will represent all agent state in the form of messages, so it needs to be able to work well with them.\n",
    "2. It should work with OpenAI function calling. This means it should either be an OpenAI model or a model that exposes a similar interface.\n",
    "\n",
    "Note: these model requirements are not requirements for using LangGraph - they are just requirements for this one example.\n"
   ]
  },
  {
   "cell_type": "code",
   "execution_count": 21,
   "id": "892b54b9-75f0-4804-9ed0-88b5e5532989",
   "metadata": {},
   "outputs": [],
   "source": [
    "from langchain_openai import ChatOpenAI\n",
    "\n",
    "# We will set streaming=True so that we can stream tokens\n",
    "# See the streaming section for more information on this.\n",
    "model = ChatOpenAI(temperature=0, streaming=True)"
   ]
  },
  {
   "cell_type": "markdown",
   "id": "a77995c0-bae2-4cee-a036-8688a90f05b9",
   "metadata": {},
   "source": [
    "\n",
    "After we've done this, we should make sure the model knows that it has these tools available to call.\n",
    "We can do this by converting the LangChain tools into the format for OpenAI function calling, and then bind them to the model class.\n"
   ]
  },
  {
   "cell_type": "code",
   "execution_count": 22,
   "id": "cd3cbae5-d92c-4559-a4aa-44721b80d107",
   "metadata": {},
   "outputs": [],
   "source": [
    "model = model.bind_tools(tools)"
   ]
  },
  {
   "cell_type": "markdown",
   "id": "8e8b9211-93d0-4ad5-aa7a-9c09099c53ff",
   "metadata": {},
   "source": [
    "## Define the agent state\n",
    "\n",
    "The main type of graph in `langgraph` is the [StateGraph](https://langchain-ai.github.io/langgraph/reference/graphs/#langgraph.graph.StateGraph).\n",
    "This graph is parameterized by a state object that it passes around to each node.\n",
    "Each node then returns operations to update that state.\n",
    "These operations can either SET specific attributes on the state (e.g. overwrite the existing values) or ADD to the existing attribute.\n",
    "Whether to set or add is denoted by annotating the state object you construct the graph with.\n",
    "\n",
    "For this example, the state we will track will just be a list of messages.\n",
    "We want each node to just add messages to that list.\n",
    "Therefore, we will use a `TypedDict` with one key (`messages`) and annotate it so that the `messages` attribute is always added to.\n"
   ]
  },
  {
   "cell_type": "code",
   "execution_count": 23,
   "id": "ea793afa-2eab-4901-910d-6eed90cd6564",
   "metadata": {},
   "outputs": [],
   "source": [
    "import operator\n",
    "from typing import Annotated, Sequence, TypedDict\n",
    "\n",
    "from langchain_core.messages import BaseMessage\n",
    "\n",
    "\n",
    "class AgentState(TypedDict):\n",
    "    messages: Annotated[Sequence[BaseMessage], operator.add]"
   ]
  },
  {
   "cell_type": "markdown",
   "id": "e03c5094-9297-4d19-a04e-3eedc75cefb4",
   "metadata": {},
   "source": [
    "## Define the nodes\n",
    "\n",
    "We now need to define a few different nodes in our graph.\n",
    "In `langgraph`, a node can be either a function or a [runnable](https://python.langchain.com/v0.2/docs/concepts/#langchain-expression-language-lcel).\n",
    "There are two main nodes we need for this:\n",
    "\n",
    "1. The agent: responsible for deciding what (if any) actions to take.\n",
    "2. A function to invoke tools: if the agent decides to take an action, this node will then execute that action.\n",
    "\n",
    "We will also need to define some edges.\n",
    "Some of these edges may be conditional.\n",
    "The reason they are conditional is that based on the output of a node, one of several paths may be taken.\n",
    "The path that is taken is not known until that node is run (the LLM decides).\n",
    "\n",
    "1. Conditional Edge: after the agent is called, we should either:\n",
    "   a. If the agent said to take an action, then the function to invoke tools should be called\n",
    "   b. If the agent said that it was finished, then it should finish\n",
    "2. Normal Edge: after the tools are invoked, it should always go back to the agent to decide what to do next\n",
    "\n",
    "Let's define the nodes, as well as a function to decide how what conditional edge to take.\n"
   ]
  },
  {
   "cell_type": "code",
   "execution_count": 24,
   "id": "3b541bb9-900c-40d0-964d-7b5dfee30667",
   "metadata": {},
   "outputs": [],
   "source": [
    "from langchain_core.messages import ToolMessage\n",
    "\n",
    "from langgraph.prebuilt import ToolInvocation\n",
    "\n",
    "\n",
    "# Define the function that determines whether to continue or not\n",
    "def should_continue(state):\n",
    "    messages = state[\"messages\"]\n",
    "    last_message = messages[-1]\n",
    "    # If there is no function call, then we finish\n",
    "    if not last_message.tool_calls:\n",
    "        return \"end\"\n",
    "    # Otherwise if there is, we continue\n",
    "    else:\n",
    "        return \"continue\"\n",
    "\n",
    "\n",
    "# Define the function that calls the model\n",
    "def call_model(state):\n",
    "    messages = state[\"messages\"]\n",
    "    response = model.invoke(messages)\n",
    "    # We return a list, because this will get added to the existing list\n",
    "    return {\"messages\": [response]}"
   ]
  },
  {
   "cell_type": "code",
   "execution_count": 30,
   "id": "5b88f31e",
   "metadata": {},
   "outputs": [],
   "source": [
    "# Human in the loop\n",
    "\n",
    "# Define the function to execute tools\n",
    "def call_tool(state):\n",
    "    messages = state[\"messages\"]\n",
    "    # Based on the continue condition\n",
    "    # we know the last message involves a function call\n",
    "    last_message = messages[-1]\n",
    "    # We construct an ToolInvocation from the function_call\n",
    "    tool_call = last_message.tool_calls[0]\n",
    "    action = ToolInvocation(\n",
    "        tool=tool_call[\"name\"],\n",
    "        tool_input=tool_call[\"args\"],\n",
    "    )\n",
    "    response = input(prompt=f\"[y/n] continue with {action}?\")\n",
    "    if response == \"n\":\n",
    "        raise ValueError(\"User chose to stop\")\n",
    "    # We call the tool_executor and get back a response\n",
    "    response = tool_executor.invoke(action)\n",
    "    # We use the response to create a FunctionMessage\n",
    "    function_message = ToolMessage(\n",
    "        content=str(response), name=action.tool, tool_call_id=tool_call[\"id\"]\n",
    "    )\n",
    "    # We return a list, because this will get added to the existing list\n",
    "    return {\"messages\": [function_message]}"
   ]
  },
  {
   "cell_type": "markdown",
   "id": "ffd6e892-946c-4899-8cc0-7c9291c1f73b",
   "metadata": {},
   "source": [
    "## Define the graph\n",
    "\n",
    "We can now put it all together and define the graph!"
   ]
  },
  {
   "cell_type": "code",
   "execution_count": 31,
   "id": "813ae66c-3b58-4283-a02a-36da72a2ab90",
   "metadata": {},
   "outputs": [],
   "source": [
    "from langgraph.graph import END, StateGraph, START\n",
    "\n",
    "# Define a new graph\n",
    "workflow = StateGraph(AgentState)\n",
    "\n",
    "# Define the two nodes we will cycle between\n",
    "workflow.add_node(\"agent\", call_model)\n",
    "workflow.add_node(\"action\", call_tool)\n",
    "\n",
    "# Set the entrypoint as `agent`\n",
    "# This means that this node is the first one called\n",
    "workflow.add_edge(START, \"agent\")\n",
    "\n",
    "# We now add a conditional edge\n",
    "workflow.add_conditional_edges(\n",
    "    # First, we define the start node. We use `agent`.\n",
    "    # This means these are the edges taken after the `agent` node is called.\n",
    "    \"agent\",\n",
    "    # Next, we pass in the function that will determine which node is called next.\n",
    "    should_continue,\n",
    "    # Finally we pass in a mapping.\n",
    "    # The keys are strings, and the values are other nodes.\n",
    "    # END is a special node marking that the graph should finish.\n",
    "    # What will happen is we will call `should_continue`, and then the output of that\n",
    "    # will be matched against the keys in this mapping.\n",
    "    # Based on which one it matches, that node will then be called.\n",
    "    {\n",
    "        # If `tools`, then we call the tool node.\n",
    "        \"continue\": \"action\",\n",
    "        # Otherwise we finish.\n",
    "        \"end\": END,\n",
    "    },\n",
    ")\n",
    "\n",
    "# We now add a normal edge from `tools` to `agent`.\n",
    "# This means that after `tools` is called, `agent` node is called next.\n",
    "workflow.add_edge(\"action\", \"agent\")\n",
    "\n",
    "# Finally, we compile it!\n",
    "# This compiles it into a LangChain Runnable,\n",
    "# meaning you can use it as you would any other runnable\n",
    "app = workflow.compile()"
   ]
  },
  {
   "cell_type": "code",
   "execution_count": 32,
   "id": "a4fab459",
   "metadata": {},
   "outputs": [
    {
     "data": {
      "image/jpeg": "[encoded data removed]",
      "text/plain": [
       "<IPython.core.display.Image object>"
      ]
     },
     "metadata": {},
     "output_type": "display_data"
    }
   ],
   "source": [
    "from IPython.display import Image, display\n",
    "\n",
    "try:\n",
    "    display(Image(app.get_graph(xray=True).draw_mermaid_png()))\n",
    "except Exception:\n",
    "    # This requires some extra dependencies and is optional\n",
    "    pass"
   ]
  },
  {
   "cell_type": "markdown",
   "id": "547c3931-3dae-4281-ad4e-4b51305594d4",
   "metadata": {},
   "source": [
    "## Use it!\n",
    "\n",
    "We can now use it!\n",
    "This now exposes the [same interface](https://python.langchain.com/v0.2/docs/concepts/#langchain-expression-language-lcel) as all other LangChain runnables."
   ]
  },
  {
   "cell_type": "code",
   "execution_count": 35,
   "id": "8edb04b9-40b6-46f1-a7a8-4b2d8aba7752",
   "metadata": {},
   "outputs": [
    {
     "name": "stderr",
     "output_type": "stream",
     "text": [
      "/var/folders/d1/dvmxg7g54gq4h4s6pjdf618w0000gn/T/ipykernel_47861/2367533552.py:11: LangGraphDeprecationWarning: ToolInvocation is deprecated as of version 0.2.0 and will be removed in 0.3.0. Use langgraph.prebuilt.ToolNode instead.\n",
      "  action = ToolInvocation(\n"
     ]
    }
   ],
   "source": [
    "from langchain_core.messages import HumanMessage\n",
    "\n",
    "inputs = {\"messages\": [HumanMessage(content=\"what is the weather in sf\")]}\n",
    "app.invoke(inputs)"
   ]
  },
  {
   "cell_type": "markdown",
   "id": "5a9e8155-70c5-4973-912c-dc55104b2acf",
   "metadata": {},
   "source": [
    "This may take a little bit - it's making a few calls behind the scenes.\n",
    "In order to start seeing some intermediate results as they happen, we can use streaming - see below for more information on that.\n",
    "\n",
    "## Streaming\n",
    "\n",
    "LangGraph has support for several different types of streaming.\n",
    "\n",
    "### Streaming Node Output\n",
    "\n",
    "One of the benefits of using LangGraph is that it is easy to stream output as it's produced by each node.\n"
   ]
  },
  {
   "cell_type": "code",
   "execution_count": 28,
   "id": "f544977e-31f7-41f0-88c4-ec9c27b8cecb",
   "metadata": {},
   "outputs": [
    {
     "name": "stdout",
     "output_type": "stream",
     "text": [
      "Output from node 'agent':\n",
      "---\n",
      "{'messages': [AIMessage(content='', additional_kwargs={'tool_calls': [{'index': 0, 'id': 'call_NL8UTrwH3nNLgh7DPl4GsGd9', 'function': {'arguments': '{\"query\":\"weather in San Francisco\"}', 'name': 'tavily_search_results_json'}, 'type': 'function'}]}, response_metadata={'finish_reason': 'tool_calls', 'model_name': 'gpt-3.5-turbo-0125'}, id='run-7ea473a1-7b54-43bb-98b4-133dc2e781fa-0', tool_calls=[{'name': 'tavily_search_results_json', 'args': {'query': 'weather in San Francisco'}, 'id': 'call_NL8UTrwH3nNLgh7DPl4GsGd9', 'type': 'tool_call'}])]}\n",
      "\n",
      "---\n",
      "\n"
     ]
    },
    {
     "name": "stderr",
     "output_type": "stream",
     "text": [
      "/var/folders/d1/dvmxg7g54gq4h4s6pjdf618w0000gn/T/ipykernel_47861/2875896790.py:34: LangGraphDeprecationWarning: ToolInvocation is deprecated as of version 0.2.0 and will be removed in 0.3.0. Use langgraph.prebuilt.ToolNode instead.\n",
      "  action = ToolInvocation(\n"
     ]
    },
    {
     "name": "stdout",
     "output_type": "stream",
     "text": [
      "Output from node 'action':\n",
      "---\n",
      "{'messages': [ToolMessage(content='[{\\'url\\': \\'https://www.weatherapi.com/\\', \\'content\\': \"{\\'location\\': {\\'name\\': \\'San Francisco\\', \\'region\\': \\'California\\', \\'country\\': \\'United States of America\\', \\'lat\\': 37.78, \\'lon\\': -122.42, \\'tz_id\\': \\'America/Los_Angeles\\', \\'localtime_epoch\\': 1725379484, \\'localtime\\': \\'2024-09-03 09:04\\'}, \\'current\\': {\\'last_updated_epoch\\': 1725379200, \\'last_updated\\': \\'2024-09-03 09:00\\', \\'temp_c\\': 17.2, \\'temp_f\\': 63.0, \\'is_day\\': 1, \\'condition\\': {\\'text\\': \\'Sunny\\', \\'icon\\': \\'//cdn.weatherapi.com/weather/64x64/day/113.png\\', \\'code\\': 1000}, \\'wind_mph\\': 2.2, \\'wind_kph\\': 3.6, \\'wind_degree\\': 10, \\'wind_dir\\': \\'N\\', \\'pressure_mb\\': 1014.0, \\'pressure_in\\': 29.95, \\'precip_mm\\': 0.0, \\'precip_in\\': 0.0, \\'humidity\\': 81, \\'cloud\\': 0, \\'feelslike_c\\': 17.2, \\'feelslike_f\\': 63.0, \\'windchill_c\\': 17.9, \\'windchill_f\\': 64.3, \\'heatindex_c\\': 17.9, \\'heatindex_f\\': 64.2, \\'dewpoint_c\\': 11.1, \\'dewpoint_f\\': 52.0, \\'vis_km\\': 16.0, \\'vis_miles\\': 9.0, \\'uv\\': 5.0, \\'gust_mph\\': 5.9, \\'gust_kph\\': 9.5}}\"}]', name='tavily_search_results_json', tool_call_id='call_NL8UTrwH3nNLgh7DPl4GsGd9')]}\n",
      "\n",
      "---\n",
      "\n",
      "Output from node 'agent':\n",
      "---\n",
      "{'messages': [AIMessage(content='The current weather in San Francisco is sunny with a temperature of 63.0°F (17.2°C). The wind is blowing at 3.6 km/h from the north. The humidity is at 81%, and there is no precipitation.', response_metadata={'finish_reason': 'stop', 'model_name': 'gpt-3.5-turbo-0125'}, id='run-1a42fa5b-9b3a-4a51-a920-c2c3cca43068-0')]}\n",
      "\n",
      "---\n",
      "\n"
     ]
    }
   ],
   "source": [
    "inputs = {\"messages\": [HumanMessage(content=\"what is the weather in sf\")]}\n",
    "for output in app.stream(inputs):\n",
    "    # stream() yields dictionaries with output keyed by node name\n",
    "    for key, value in output.items():\n",
    "        print(f\"Output from node '{key}':\")\n",
    "        print(\"---\")\n",
    "        print(value)\n",
    "    print(\"\\n---\\n\")"
   ]
  },
  {
   "cell_type": "markdown",
   "id": "2a1b56c5-bd61-4192-8bdb-458a1e9f0159",
   "metadata": {},
   "source": [
    "### Streaming LLM Tokens\n",
    "\n",
    "You can also access the LLM tokens as they are produced by each node. \n",
    "In this case only the \"agent\" node produces LLM tokens.\n",
    "In order for this to work properly, you must be using an LLM that supports streaming as well as have set it when constructing the LLM (e.g. `ChatOpenAI(model=\"gpt-3.5-turbo-1106\", streaming=True)`)\n"
   ]
  },
  {
   "cell_type": "code",
   "execution_count": 29,
   "id": "cfd140f0-a5a6-4697-8115-322242f197b5",
   "metadata": {},
   "outputs": [
    {
     "name": "stdout",
     "output_type": "stream",
     "text": [
      "content='' additional_kwargs={'tool_calls': [{'index': 0, 'id': 'call_fiTxmBzW15QMUlGHwKSXaUOF', 'function': {'arguments': '', 'name': 'tavily_search_results_json'}, 'type': 'function'}]} id='run-2288ef85-3e0b-46f5-bbf0-2daaf1d68448' tool_calls=[{'name': 'tavily_search_results_json', 'args': {}, 'id': 'call_fiTxmBzW15QMUlGHwKSXaUOF', 'type': 'tool_call'}] tool_call_chunks=[{'name': 'tavily_search_results_json', 'args': '', 'id': 'call_fiTxmBzW15QMUlGHwKSXaUOF', 'index': 0, 'type': 'tool_call_chunk'}]\n",
      "content='' additional_kwargs={'tool_calls': [{'index': 0, 'id': None, 'function': {'arguments': '{\"', 'name': None}, 'type': None}]} id='run-2288ef85-3e0b-46f5-bbf0-2daaf1d68448' tool_calls=[{'name': '', 'args': {}, 'id': None, 'type': 'tool_call'}] tool_call_chunks=[{'name': None, 'args': '{\"', 'id': None, 'index': 0, 'type': 'tool_call_chunk'}]\n",
      "content='' additional_kwargs={'tool_calls': [{'index': 0, 'id': None, 'function': {'arguments': 'query', 'name': None}, 'type': None}]} id='run-2288ef85-3e0b-46f5-bbf0-2daaf1d68448' invalid_tool_calls=[{'name': None, 'args': 'query', 'id': None, 'error': None, 'type': 'invalid_tool_call'}] tool_call_chunks=[{'name': None, 'args': 'query', 'id': None, 'index': 0, 'type': 'tool_call_chunk'}]\n",
      "content='' additional_kwargs={'tool_calls': [{'index': 0, 'id': None, 'function': {'arguments': '\":\"', 'name': None}, 'type': None}]} id='run-2288ef85-3e0b-46f5-bbf0-2daaf1d68448' invalid_tool_calls=[{'name': None, 'args': '\":\"', 'id': None, 'error': None, 'type': 'invalid_tool_call'}] tool_call_chunks=[{'name': None, 'args': '\":\"', 'id': None, 'index': 0, 'type': 'tool_call_chunk'}]\n",
      "content='' additional_kwargs={'tool_calls': [{'index': 0, 'id': None, 'function': {'arguments': 'weather', 'name': None}, 'type': None}]} id='run-2288ef85-3e0b-46f5-bbf0-2daaf1d68448' invalid_tool_calls=[{'name': None, 'args': 'weather', 'id': None, 'error': None, 'type': 'invalid_tool_call'}] tool_call_chunks=[{'name': None, 'args': 'weather', 'id': None, 'index': 0, 'type': 'tool_call_chunk'}]\n",
      "content='' additional_kwargs={'tool_calls': [{'index': 0, 'id': None, 'function': {'arguments': ' in', 'name': None}, 'type': None}]} id='run-2288ef85-3e0b-46f5-bbf0-2daaf1d68448' invalid_tool_calls=[{'name': None, 'args': ' in', 'id': None, 'error': None, 'type': 'invalid_tool_call'}] tool_call_chunks=[{'name': None, 'args': ' in', 'id': None, 'index': 0, 'type': 'tool_call_chunk'}]\n",
      "content='' additional_kwargs={'tool_calls': [{'index': 0, 'id': None, 'function': {'arguments': ' San', 'name': None}, 'type': None}]} id='run-2288ef85-3e0b-46f5-bbf0-2daaf1d68448' invalid_tool_calls=[{'name': None, 'args': ' San', 'id': None, 'error': None, 'type': 'invalid_tool_call'}] tool_call_chunks=[{'name': None, 'args': ' San', 'id': None, 'index': 0, 'type': 'tool_call_chunk'}]\n",
      "content='' additional_kwargs={'tool_calls': [{'index': 0, 'id': None, 'function': {'arguments': ' Francisco', 'name': None}, 'type': None}]} id='run-2288ef85-3e0b-46f5-bbf0-2daaf1d68448' invalid_tool_calls=[{'name': None, 'args': ' Francisco', 'id': None, 'error': None, 'type': 'invalid_tool_call'}] tool_call_chunks=[{'name': None, 'args': ' Francisco', 'id': None, 'index': 0, 'type': 'tool_call_chunk'}]\n",
      "content='' additional_kwargs={'tool_calls': [{'index': 0, 'id': None, 'function': {'arguments': '\"}', 'name': None}, 'type': None}]} id='run-2288ef85-3e0b-46f5-bbf0-2daaf1d68448' invalid_tool_calls=[{'name': None, 'args': '\"}', 'id': None, 'error': None, 'type': 'invalid_tool_call'}] tool_call_chunks=[{'name': None, 'args': '\"}', 'id': None, 'index': 0, 'type': 'tool_call_chunk'}]\n",
      "content='' response_metadata={'finish_reason': 'tool_calls', 'model_name': 'gpt-3.5-turbo-0125'} id='run-2288ef85-3e0b-46f5-bbf0-2daaf1d68448'\n"
     ]
    },
    {
     "name": "stderr",
     "output_type": "stream",
     "text": [
      "/var/folders/d1/dvmxg7g54gq4h4s6pjdf618w0000gn/T/ipykernel_47861/2875896790.py:34: LangGraphDeprecationWarning: ToolInvocation is deprecated as of version 0.2.0 and will be removed in 0.3.0. Use langgraph.prebuilt.ToolNode instead.\n",
      "  action = ToolInvocation(\n"
     ]
    },
    {
     "name": "stdout",
     "output_type": "stream",
     "text": [
      "content='' id='run-bd70b46e-597b-4122-9c00-f128f85200cb'\n",
      "content='The' id='run-bd70b46e-597b-4122-9c00-f128f85200cb'\n",
      "content=' current' id='run-bd70b46e-597b-4122-9c00-f128f85200cb'\n",
      "content=' weather' id='run-bd70b46e-597b-4122-9c00-f128f85200cb'\n",
      "content=' in' id='run-bd70b46e-597b-4122-9c00-f128f85200cb'\n",
      "content=' San' id='run-bd70b46e-597b-4122-9c00-f128f85200cb'\n",
      "content=' Francisco' id='run-bd70b46e-597b-4122-9c00-f128f85200cb'\n",
      "content=' is' id='run-bd70b46e-597b-4122-9c00-f128f85200cb'\n",
      "content=' as' id='run-bd70b46e-597b-4122-9c00-f128f85200cb'\n",
      "content=' follows' id='run-bd70b46e-597b-4122-9c00-f128f85200cb'\n",
      "content=':\\n' id='run-bd70b46e-597b-4122-9c00-f128f85200cb'\n",
      "content='-' id='run-bd70b46e-597b-4122-9c00-f128f85200cb'\n",
      "content=' Temperature' id='run-bd70b46e-597b-4122-9c00-f128f85200cb'\n",
      "content=':' id='run-bd70b46e-597b-4122-9c00-f128f85200cb'\n",
      "content=' ' id='run-bd70b46e-597b-4122-9c00-f128f85200cb'\n",
      "content='63' id='run-bd70b46e-597b-4122-9c00-f128f85200cb'\n",
      "content='.' id='run-bd70b46e-597b-4122-9c00-f128f85200cb'\n",
      "content='0' id='run-bd70b46e-597b-4122-9c00-f128f85200cb'\n",
      "content='°F' id='run-bd70b46e-597b-4122-9c00-f128f85200cb'\n",
      "content=' (' id='run-bd70b46e-597b-4122-9c00-f128f85200cb'\n",
      "content='17' id='run-bd70b46e-597b-4122-9c00-f128f85200cb'\n",
      "content='.' id='run-bd70b46e-597b-4122-9c00-f128f85200cb'\n",
      "content='2' id='run-bd70b46e-597b-4122-9c00-f128f85200cb'\n",
      "content='°C' id='run-bd70b46e-597b-4122-9c00-f128f85200cb'\n",
      "content=')\\n' id='run-bd70b46e-597b-4122-9c00-f128f85200cb'\n",
      "content='-' id='run-bd70b46e-597b-4122-9c00-f128f85200cb'\n",
      "content=' Condition' id='run-bd70b46e-597b-4122-9c00-f128f85200cb'\n",
      "content=':' id='run-bd70b46e-597b-4122-9c00-f128f85200cb'\n",
      "content=' Sunny' id='run-bd70b46e-597b-4122-9c00-f128f85200cb'\n",
      "content='\\n' id='run-bd70b46e-597b-4122-9c00-f128f85200cb'\n",
      "content='-' id='run-bd70b46e-597b-4122-9c00-f128f85200cb'\n",
      "content=' Wind' id='run-bd70b46e-597b-4122-9c00-f128f85200cb'\n",
      "content=':' id='run-bd70b46e-597b-4122-9c00-f128f85200cb'\n",
      "content=' ' id='run-bd70b46e-597b-4122-9c00-f128f85200cb'\n",
      "content='3' id='run-bd70b46e-597b-4122-9c00-f128f85200cb'\n",
      "content='.' id='run-bd70b46e-597b-4122-9c00-f128f85200cb'\n",
      "content='6' id='run-bd70b46e-597b-4122-9c00-f128f85200cb'\n",
      "content=' km' id='run-bd70b46e-597b-4122-9c00-f128f85200cb'\n",
      "content='/h' id='run-bd70b46e-597b-4122-9c00-f128f85200cb'\n",
      "content=' from' id='run-bd70b46e-597b-4122-9c00-f128f85200cb'\n",
      "content=' the' id='run-bd70b46e-597b-4122-9c00-f128f85200cb'\n",
      "content=' North' id='run-bd70b46e-597b-4122-9c00-f128f85200cb'\n",
      "content='\\n' id='run-bd70b46e-597b-4122-9c00-f128f85200cb'\n",
      "content='-' id='run-bd70b46e-597b-4122-9c00-f128f85200cb'\n",
      "content=' Hum' id='run-bd70b46e-597b-4122-9c00-f128f85200cb'\n",
      "content='idity' id='run-bd70b46e-597b-4122-9c00-f128f85200cb'\n",
      "content=':' id='run-bd70b46e-597b-4122-9c00-f128f85200cb'\n",
      "content=' ' id='run-bd70b46e-597b-4122-9c00-f128f85200cb'\n",
      "content='81' id='run-bd70b46e-597b-4122-9c00-f128f85200cb'\n",
      "content='%\\n' id='run-bd70b46e-597b-4122-9c00-f128f85200cb'\n",
      "content='-' id='run-bd70b46e-597b-4122-9c00-f128f85200cb'\n",
      "content=' Visibility' id='run-bd70b46e-597b-4122-9c00-f128f85200cb'\n",
      "content=':' id='run-bd70b46e-597b-4122-9c00-f128f85200cb'\n",
      "content=' ' id='run-bd70b46e-597b-4122-9c00-f128f85200cb'\n",
      "content='9' id='run-bd70b46e-597b-4122-9c00-f128f85200cb'\n",
      "content='.' id='run-bd70b46e-597b-4122-9c00-f128f85200cb'\n",
      "content='0' id='run-bd70b46e-597b-4122-9c00-f128f85200cb'\n",
      "content=' miles' id='run-bd70b46e-597b-4122-9c00-f128f85200cb'\n",
      "content='\\n' id='run-bd70b46e-597b-4122-9c00-f128f85200cb'\n",
      "content='-' id='run-bd70b46e-597b-4122-9c00-f128f85200cb'\n",
      "content=' UV' id='run-bd70b46e-597b-4122-9c00-f128f85200cb'\n",
      "content=' Index' id='run-bd70b46e-597b-4122-9c00-f128f85200cb'\n",
      "content=':' id='run-bd70b46e-597b-4122-9c00-f128f85200cb'\n",
      "content=' ' id='run-bd70b46e-597b-4122-9c00-f128f85200cb'\n",
      "content='5' id='run-bd70b46e-597b-4122-9c00-f128f85200cb'\n",
      "content='.' id='run-bd70b46e-597b-4122-9c00-f128f85200cb'\n",
      "content='0' id='run-bd70b46e-597b-4122-9c00-f128f85200cb'\n",
      "content='\\n\\n' id='run-bd70b46e-597b-4122-9c00-f128f85200cb'\n",
      "content='For' id='run-bd70b46e-597b-4122-9c00-f128f85200cb'\n",
      "content=' more' id='run-bd70b46e-597b-4122-9c00-f128f85200cb'\n",
      "content=' detailed' id='run-bd70b46e-597b-4122-9c00-f128f85200cb'\n",
      "content=' information' id='run-bd70b46e-597b-4122-9c00-f128f85200cb'\n",
      "content=',' id='run-bd70b46e-597b-4122-9c00-f128f85200cb'\n",
      "content=' you' id='run-bd70b46e-597b-4122-9c00-f128f85200cb'\n",
      "content=' can' id='run-bd70b46e-597b-4122-9c00-f128f85200cb'\n",
      "content=' visit' id='run-bd70b46e-597b-4122-9c00-f128f85200cb'\n",
      "content=' [' id='run-bd70b46e-597b-4122-9c00-f128f85200cb'\n",
      "content='Weather' id='run-bd70b46e-597b-4122-9c00-f128f85200cb'\n",
      "content=' API' id='run-bd70b46e-597b-4122-9c00-f128f85200cb'\n",
      "content='](' id='run-bd70b46e-597b-4122-9c00-f128f85200cb'\n",
      "content='https' id='run-bd70b46e-597b-4122-9c00-f128f85200cb'\n",
      "content='://' id='run-bd70b46e-597b-4122-9c00-f128f85200cb'\n",
      "content='www' id='run-bd70b46e-597b-4122-9c00-f128f85200cb'\n",
      "content='.weather' id='run-bd70b46e-597b-4122-9c00-f128f85200cb'\n",
      "content='api' id='run-bd70b46e-597b-4122-9c00-f128f85200cb'\n",
      "content='.com' id='run-bd70b46e-597b-4122-9c00-f128f85200cb'\n",
      "content='/' id='run-bd70b46e-597b-4122-9c00-f128f85200cb'\n",
      "content=').' id='run-bd70b46e-597b-4122-9c00-f128f85200cb'\n",
      "content='' response_metadata={'finish_reason': 'stop', 'model_name': 'gpt-3.5-turbo-0125'} id='run-bd70b46e-597b-4122-9c00-f128f85200cb'\n"
     ]
    }
   ],
   "source": [
    "inputs = {\"messages\": [HumanMessage(content=\"what is the weather in sf?\")]}\n",
    "\n",
    "async for output in app.astream_log(inputs, include_types=[\"llm\"]):\n",
    "    # astream_log() yields the requested logs (here LLMs) in JSONPatch format\n",
    "    for op in output.ops:\n",
    "        if op[\"path\"] == \"/streamed_output/-\":\n",
    "            # this is the output from .stream()\n",
    "            ...\n",
    "        elif op[\"path\"].startswith(\"/logs/\") and op[\"path\"].endswith(\n",
    "            \"/streamed_output/-\"\n",
    "        ):\n",
    "            # because we chose to only include LLMs, these are LLM tokens\n",
    "            print(op[\"value\"])"
   ]
  },
  {
   "cell_type": "code",
   "execution_count": null,
   "id": "08ae8246-11d5-40e1-8567-361e5bef8917",
   "metadata": {},
   "outputs": [],
   "source": []
  }
 ],
 "metadata": {
  "kernelspec": {
   "display_name": "Python 3 (ipykernel)",
   "language": "python",
   "name": "python3"
  },
  "language_info": {
   "codemirror_mode": {
    "name": "ipython",
    "version": 3
   },
   "file_extension": ".py",
   "mimetype": "text/x-python",
   "name": "python",
   "nbconvert_exporter": "python",
   "pygments_lexer": "ipython3",
   "version": "3.11.9"
  }
 },
 "nbformat": 4,
 "nbformat_minor": 5
}
